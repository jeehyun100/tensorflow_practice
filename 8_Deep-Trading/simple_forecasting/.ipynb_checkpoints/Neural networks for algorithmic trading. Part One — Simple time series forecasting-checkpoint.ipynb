{
 "cells": [
  {
   "cell_type": "markdown",
   "metadata": {},
   "source": [
    "# Neural networks for algorithmic trading. \n",
    "# Part 1. Simple time series forecasting\n"
   ]
  },
  {
   "cell_type": "markdown",
   "metadata": {
    "collapsed": true
   },
   "source": [
    "\n",
    "Ciao, people!\n",
    "\n",
    "This is first part of my experiments on application of deep learning to finance, in particular to algorithmic trading.\n",
    "I want to implement trading system from scratch based only on deep learning approaches, so for any problem we have here (price prediction, trading strategy, risk management) we gonna use different variations of artificial neural networks (ANNs) and check how well they can handle this.\n",
    "\n",
    "In this, first part, I want to show how MLPs, CNNs and RNNs can be used for financial time series prediction. In this part we are not going to use any feature engineering. Let's just consider historical dataset of S&P500 index price movements. We have information from 2050 to 2016 about open, close, high, low prices for every day in the year and volume of trades. First, we will try just to predict close price in the end of the next day, second, we will try to predict return (close price - open price).\n",
    "\n",
    "We will consider our problem as 1) regression problem (trying to forecast exactly close price or return next day) 2) binary classification problem (price will go up [1; 0] or down [0; 1]). "
   ]
  },
  {
   "cell_type": "code",
   "execution_count": 152,
   "metadata": {
    "collapsed": false
   },
   "outputs": [],
   "source": [
    "import numpy as np\n",
    "from sklearn import preprocessing\n",
    "from sklearn.metrics import mean_squared_error, classification_report\n",
    "import matplotlib.pylab as plt\n",
    "import datetime as dt\n",
    "import time\n",
    "\n",
    "from keras.models import Sequential\n",
    "from keras.layers.core import Dense, Dropout, Activation, Flatten\n",
    "from keras.layers.recurrent import LSTM, GRU\n",
    "from keras.layers import Convolution1D, MaxPooling1D\n",
    "\n",
    "%matplotlib inline  "
   ]
  },
  {
   "cell_type": "markdown",
   "metadata": {},
   "source": []
  },
  {
   "cell_type": "code",
   "execution_count": 153,
   "metadata": {
    "collapsed": false
   },
   "outputs": [],
   "source": [
    "def load_snp_returns():\n",
    "    f = open('table.csv', 'rb').readlines()[1:]\n",
    "    raw_data = []\n",
    "    raw_dates = []\n",
    "    for line in f:\n",
    "        try:\n",
    "            open_price = float(line.decode().split(',')[1])\n",
    "            close_price = float(line.decode().split(',')[4])\n",
    "            raw_data.append(close_price - open_price)\n",
    "            raw_dates.append(line.decode().split(',')[0])\n",
    "        except:\n",
    "            continue\n",
    "\n",
    "    return raw_data[::-1], raw_dates[::-1]\n",
    "\n",
    "\n",
    "def load_snp_close():\n",
    "    f = open('table.csv', 'rb').readlines()[1:]\n",
    "    #ff = base64.b64encode(f.read())\n",
    "    raw_data = []\n",
    "    raw_dates = []\n",
    "    #print(f)\n",
    "    for line in f:\n",
    "        try:\n",
    "            #print(type(line))\n",
    "            #print(dir(line))\n",
    "            #print (\"line = {0}\".format(line.decode()))\n",
    "            close_price = float(line.decode().split(',')[4])\n",
    "            #print (\"close price = {0}\".format(str(close_price)))\n",
    "            raw_data.append(close_price)\n",
    "            raw_dates.append(line.decode().split(',')[0])\n",
    "        except Exception as e:\n",
    "            print (e)\n",
    "            continue\n",
    "    return raw_data, raw_dates\n",
    "\n",
    "\n",
    "def split_into_chunks(data, train, predict, step, binary=True, scale=True):\n",
    "    X, Y = [], []\n",
    "    for i in range(0, len(data), step):\n",
    "        try:\n",
    "            x_i = data[i:i+train]\n",
    "            y_i = data[i+train+predict]\n",
    "            \n",
    "            # Use it only for daily return time series\n",
    "            if binary:\n",
    "                if y_i > 0.:\n",
    "                    y_i = [1., 0.]\n",
    "                else:\n",
    "                    y_i = [0., 1.]\n",
    "\n",
    "                if scale: x_i = preprocessing.scale(x_i)\n",
    "                \n",
    "            else:\n",
    "                timeseries = np.array(data[i:i+train+predict])\n",
    "                if scale: timeseries = preprocessing.scale(timeseries)\n",
    "                x_i = timeseries[:-1]\n",
    "                y_i = timeseries[-1]\n",
    "            \n",
    "        except:\n",
    "            break\n",
    "\n",
    "        X.append(x_i)\n",
    "        Y.append(y_i)\n",
    "\n",
    "    return X, Y\n",
    "\n",
    "\n",
    "def shuffle_in_unison(a, b):\n",
    "    # courtsey http://stackoverflow.com/users/190280/josh-bleecher-snyder\n",
    "    assert len(a) == len(b)\n",
    "    shuffled_a = np.empty(a.shape, dtype=a.dtype)\n",
    "    shuffled_b = np.empty(b.shape, dtype=b.dtype)\n",
    "    permutation = np.random.permutation(len(a))\n",
    "    for old_index, new_index in enumerate(permutation):\n",
    "        shuffled_a[new_index] = a[old_index]\n",
    "        shuffled_b[new_index] = b[old_index]\n",
    "    return shuffled_a, shuffled_b\n",
    "\n",
    "\n",
    "def create_Xt_Yt(X, y, percentage=0.8):\n",
    "    #percentage = 1.0\n",
    "    X_train = X[0:len(X) * percentage]\n",
    "    Y_train = y[0:len(y) * percentage]\n",
    "    \n",
    "    X_train, Y_train = shuffle_in_unison(X_train, Y_train)\n",
    "\n",
    "    X_test = X[len(X) * percentage:]\n",
    "    Y_test = y[len(X) * percentage:]\n",
    "\n",
    "    return X_train, X_test, Y_train, Y_test"
   ]
  },
  {
   "cell_type": "code",
   "execution_count": 154,
   "metadata": {
    "collapsed": false
   },
   "outputs": [
    {
     "data": {
      "text/plain": [
       "[<matplotlib.lines.Line2D at 0x7fab114116a0>]"
      ]
     },
     "execution_count": 154,
     "metadata": {},
     "output_type": "execute_result"
    },
    {
     "data": {
      "image/png": "[encoded data removed]",
      "text/plain": [
       "<matplotlib.figure.Figure at 0x7fab12f786d8>"
      ]
     },
     "metadata": {},
     "output_type": "display_data"
    }
   ],
   "source": [
    "timeseries, dates = load_snp_close()\n",
    "#print(dates)\n",
    "dates = [dt.datetime.strptime(d,'%Y-%m-%d').date() for d in dates]\n",
    "\n",
    "plt.plot(dates, timeseries)"
   ]
  },
  {
   "cell_type": "code",
   "execution_count": 155,
   "metadata": {
    "collapsed": false
   },
   "outputs": [
    {
     "name": "stderr",
     "output_type": "stream",
     "text": [
      "/opt/conda/lib/python3.5/site-packages/ipykernel/__main__.py:83: VisibleDeprecationWarning: using a non-integer number instead of an integer will result in an error in the future\n",
      "/opt/conda/lib/python3.5/site-packages/ipykernel/__main__.py:84: VisibleDeprecationWarning: using a non-integer number instead of an integer will result in an error in the future\n",
      "/opt/conda/lib/python3.5/site-packages/ipykernel/__main__.py:88: VisibleDeprecationWarning: using a non-integer number instead of an integer will result in an error in the future\n",
      "/opt/conda/lib/python3.5/site-packages/ipykernel/__main__.py:89: VisibleDeprecationWarning: using a non-integer number instead of an integer will result in an error in the future\n"
     ]
    }
   ],
   "source": [
    "TRAIN_SIZE = 20\n",
    "TARGET_TIME = 1\n",
    "LAG_SIZE = 1\n",
    "EMB_SIZE = 1\n",
    "\n",
    "X, Y = split_into_chunks(timeseries, TRAIN_SIZE, TARGET_TIME, LAG_SIZE, binary=False, scale=False)\n",
    "X, Y = np.array(X), np.array(Y)\n",
    "X_train, X_test, Y_train, Y_test = create_Xt_Yt(X, Y, percentage=0.9)\n",
    "\n",
    "Xp, Yp = split_into_chunks(timeseries, TRAIN_SIZE, TARGET_TIME, LAG_SIZE, binary=False, scale=True)\n",
    "Xp, Yp = np.array(Xp), np.array(Yp)\n",
    "X_trainp, X_testp, Y_trainp, Y_testp = create_Xt_Yt(Xp, Yp, percentage=0.9)\n"
   ]
  },
  {
   "cell_type": "code",
   "execution_count": 156,
   "metadata": {
    "collapsed": false
   },
   "outputs": [
    {
     "name": "stdout",
     "output_type": "stream",
     "text": [
      "Train on 15015 samples, validate on 1669 samples\n",
      "Epoch 1/5\n",
      "15015/15015 [==============================] - 1s - loss: 19192.9910 - val_loss: 1216.9737\n",
      "Epoch 2/5\n",
      "15015/15015 [==============================] - 0s - loss: 1789.5955 - val_loss: 5694.3193\n",
      "Epoch 3/5\n",
      "15015/15015 [==============================] - 0s - loss: 1384.6807 - val_loss: 6279.1250\n",
      "Epoch 4/5\n",
      "15015/15015 [==============================] - 0s - loss: 1121.8540 - val_loss: 10567.7151\n",
      "Epoch 5/5\n",
      "15015/15015 [==============================] - 0s - loss: 1168.9930 - val_loss: 12911.6912\n",
      "[]\n"
     ]
    }
   ],
   "source": [
    "#X_train = np.reshape(X_train, (X_train.shape[0], X_train.shape[1], EMB_SIZE))\n",
    "#X_test = np.reshape(X_test, (X_test.shape[0], X_test.shape[1], EMB_SIZE))\n",
    "\n",
    "model = Sequential()\n",
    "model.add(Dense(500, input_shape = (TRAIN_SIZE, )))\n",
    "model.add(Activation('relu'))\n",
    "model.add(Dropout(0.25))\n",
    "model.add(Dense(250))\n",
    "model.add(Activation('relu'))\n",
    "model.add(Dense(1))\n",
    "model.add(Activation('linear'))\n",
    "model.compile(optimizer='adam', \n",
    "              loss='mse')\n",
    "\n",
    "model.fit(X_train, \n",
    "          Y_train, \n",
    "          epochs=5, \n",
    "          batch_size = 128, \n",
    "          verbose=1, \n",
    "          validation_split=0.1)\n",
    "score = model.evaluate(X_test, Y_test, batch_size=128)\n",
    "print (score)"
   ]
  },
  {
   "cell_type": "code",
   "execution_count": 157,
   "metadata": {
    "collapsed": false
   },
   "outputs": [
    {
     "ename": "ValueError",
     "evalue": "Found array with 0 sample(s) (shape=(0,)) while a minimum of 1 is required.",
     "output_type": "error",
     "traceback": [
      "\u001b[0;31m---------------------------------------------------------------------------\u001b[0m",
      "\u001b[0;31mValueError\u001b[0m                                Traceback (most recent call last)",
      "\u001b[0;32m<ipython-input-157-0847bf86e323>\u001b[0m in \u001b[0;36m<module>\u001b[0;34m()\u001b[0m\n\u001b[1;32m     19\u001b[0m \u001b[0;34m\u001b[0m\u001b[0m\n\u001b[1;32m     20\u001b[0m \u001b[0;34m\u001b[0m\u001b[0m\n\u001b[0;32m---> 21\u001b[0;31m \u001b[0mmse\u001b[0m \u001b[0;34m=\u001b[0m \u001b[0mmean_squared_error\u001b[0m\u001b[0;34m(\u001b[0m\u001b[0mpredicted\u001b[0m\u001b[0;34m,\u001b[0m \u001b[0mnew_predicted\u001b[0m\u001b[0;34m)\u001b[0m\u001b[0;34m\u001b[0m\u001b[0m\n\u001b[0m\u001b[1;32m     22\u001b[0m \u001b[0mprint\u001b[0m \u001b[0;34m(\u001b[0m\u001b[0mmse\u001b[0m\u001b[0;34m)\u001b[0m\u001b[0;34m\u001b[0m\u001b[0m\n\u001b[1;32m     23\u001b[0m \u001b[0;34m\u001b[0m\u001b[0m\n",
      "\u001b[0;32m/opt/conda/lib/python3.5/site-packages/sklearn/metrics/regression.py\u001b[0m in \u001b[0;36mmean_squared_error\u001b[0;34m(y_true, y_pred, sample_weight, multioutput)\u001b[0m\n\u001b[1;32m    229\u001b[0m     \"\"\"\n\u001b[1;32m    230\u001b[0m     y_type, y_true, y_pred, multioutput = _check_reg_targets(\n\u001b[0;32m--> 231\u001b[0;31m         y_true, y_pred, multioutput)\n\u001b[0m\u001b[1;32m    232\u001b[0m     output_errors = np.average((y_true - y_pred) ** 2, axis=0,\n\u001b[1;32m    233\u001b[0m                                weights=sample_weight)\n",
      "\u001b[0;32m/opt/conda/lib/python3.5/site-packages/sklearn/metrics/regression.py\u001b[0m in \u001b[0;36m_check_reg_targets\u001b[0;34m(y_true, y_pred, multioutput)\u001b[0m\n\u001b[1;32m     73\u001b[0m     \"\"\"\n\u001b[1;32m     74\u001b[0m     \u001b[0mcheck_consistent_length\u001b[0m\u001b[0;34m(\u001b[0m\u001b[0my_true\u001b[0m\u001b[0;34m,\u001b[0m \u001b[0my_pred\u001b[0m\u001b[0;34m)\u001b[0m\u001b[0;34m\u001b[0m\u001b[0m\n\u001b[0;32m---> 75\u001b[0;31m     \u001b[0my_true\u001b[0m \u001b[0;34m=\u001b[0m \u001b[0mcheck_array\u001b[0m\u001b[0;34m(\u001b[0m\u001b[0my_true\u001b[0m\u001b[0;34m,\u001b[0m \u001b[0mensure_2d\u001b[0m\u001b[0;34m=\u001b[0m\u001b[0;32mFalse\u001b[0m\u001b[0;34m)\u001b[0m\u001b[0;34m\u001b[0m\u001b[0m\n\u001b[0m\u001b[1;32m     76\u001b[0m     \u001b[0my_pred\u001b[0m \u001b[0;34m=\u001b[0m \u001b[0mcheck_array\u001b[0m\u001b[0;34m(\u001b[0m\u001b[0my_pred\u001b[0m\u001b[0;34m,\u001b[0m \u001b[0mensure_2d\u001b[0m\u001b[0;34m=\u001b[0m\u001b[0;32mFalse\u001b[0m\u001b[0;34m)\u001b[0m\u001b[0;34m\u001b[0m\u001b[0m\n\u001b[1;32m     77\u001b[0m \u001b[0;34m\u001b[0m\u001b[0m\n",
      "\u001b[0;32m/opt/conda/lib/python3.5/site-packages/sklearn/utils/validation.py\u001b[0m in \u001b[0;36mcheck_array\u001b[0;34m(array, accept_sparse, dtype, order, copy, force_all_finite, ensure_2d, allow_nd, ensure_min_samples, ensure_min_features, warn_on_dtype, estimator)\u001b[0m\n\u001b[1;32m    414\u001b[0m                              \u001b[0;34m\" minimum of %d is required%s.\"\u001b[0m\u001b[0;34m\u001b[0m\u001b[0m\n\u001b[1;32m    415\u001b[0m                              % (n_samples, shape_repr, ensure_min_samples,\n\u001b[0;32m--> 416\u001b[0;31m                                 context))\n\u001b[0m\u001b[1;32m    417\u001b[0m \u001b[0;34m\u001b[0m\u001b[0m\n\u001b[1;32m    418\u001b[0m     \u001b[0;32mif\u001b[0m \u001b[0mensure_min_features\u001b[0m \u001b[0;34m>\u001b[0m \u001b[0;36m0\u001b[0m \u001b[0;32mand\u001b[0m \u001b[0marray\u001b[0m\u001b[0;34m.\u001b[0m\u001b[0mndim\u001b[0m \u001b[0;34m==\u001b[0m \u001b[0;36m2\u001b[0m\u001b[0;34m:\u001b[0m\u001b[0;34m\u001b[0m\u001b[0m\n",
      "\u001b[0;31mValueError\u001b[0m: Found array with 0 sample(s) (shape=(0,)) while a minimum of 1 is required."
     ]
    }
   ],
   "source": [
    "params = []\n",
    "for xt in X_testp:\n",
    "    xt = np.array(xt)\n",
    "    mean_ = xt.mean()\n",
    "    scale_ = xt.std()\n",
    "    params.append([mean_, scale_])\n",
    "\n",
    "predicted = model.predict(X_test)\n",
    "new_predicted = []\n",
    "\n",
    "for pred, par in zip(predicted, params):\n",
    "    #print(\"pred : {0}\".format(pred))\n",
    "    #print(\"par  {0}\".format(par))\n",
    "    a = pred*par[1]\n",
    "    #print(\"a = {0}\".format(a))\n",
    "    a += par[0]\n",
    "    #print(\"a1 = {0}\".format(a))\n",
    "    new_predicted.append(a)\n",
    "    \n",
    "\n",
    "mse = mean_squared_error(predicted, new_predicted)\n",
    "print (mse)\n",
    "\n",
    "try:\n",
    "    fig = plt.figure()\n",
    "    plt.plot(Y_test[:150], color='black') # BLUE - trained RESULT\n",
    "    plt.plot(predicted[:150], color='blue') # RED - trained PREDICTION\n",
    "    plt.plot(Y_testp[:150], color='green') # GREEN - actual RESULT\n",
    "    #plt.plot(new_predicted[:150], color='red') # ORANGE - restored PREDICTION\n",
    "    plt.show()\n",
    "except Exception as e:\n",
    "    print (str(e))"
   ]
  },
  {
   "cell_type": "code",
   "execution_count": 90,
   "metadata": {
    "collapsed": false
   },
   "outputs": [
    {
     "data": {
      "text/plain": [
       "[<matplotlib.lines.Line2D at 0x7fab1959b940>]"
      ]
     },
     "execution_count": 90,
     "metadata": {},
     "output_type": "execute_result"
    },
    {
     "data": {
      "image/png": "[encoded data removed]",
      "text/plain": [
       "<matplotlib.figure.Figure at 0x7fab380601d0>"
      ]
     },
     "metadata": {},
     "output_type": "display_data"
    }
   ],
   "source": [
    "timeseries, dates = load_snp_returns()\n",
    "dates = [dt.datetime.strptime(d,'%Y-%m-%d').date() for d in dates]\n",
    "plt.plot(dates, timeseries)"
   ]
  },
  {
   "cell_type": "code",
   "execution_count": 106,
   "metadata": {
    "collapsed": false
   },
   "outputs": [
    {
     "name": "stdout",
     "output_type": "stream",
     "text": [
      "X = 16684 Y = 16684\n"
     ]
    },
    {
     "name": "stderr",
     "output_type": "stream",
     "text": [
      "/opt/conda/lib/python3.5/site-packages/ipykernel/__main__.py:82: VisibleDeprecationWarning: using a non-integer number instead of an integer will result in an error in the future\n",
      "/opt/conda/lib/python3.5/site-packages/ipykernel/__main__.py:83: VisibleDeprecationWarning: using a non-integer number instead of an integer will result in an error in the future\n",
      "/opt/conda/lib/python3.5/site-packages/ipykernel/__main__.py:87: VisibleDeprecationWarning: using a non-integer number instead of an integer will result in an error in the future\n",
      "/opt/conda/lib/python3.5/site-packages/ipykernel/__main__.py:88: VisibleDeprecationWarning: using a non-integer number instead of an integer will result in an error in the future\n"
     ]
    }
   ],
   "source": [
    "TRAIN_SIZE = 20\n",
    "TARGET_TIME = 1\n",
    "LAG_SIZE = 1\n",
    "EMB_SIZE = 1\n",
    "\n",
    "X, Y = split_into_chunks(timeseries, TRAIN_SIZE, TARGET_TIME, LAG_SIZE, binary=True, scale=True)\n",
    "\n",
    "print (\"X = {0} Y = {1}\".format(len(X), len(Y)))\n",
    "\n",
    "X, Y = np.array(X), np.array(Y)\n",
    "X_train, X_test, Y_train, Y_test = create_Xt_Yt(X, Y, percentage=0.9)"
   ]
  },
  {
   "cell_type": "code",
   "execution_count": 114,
   "metadata": {
    "collapsed": false
   },
   "outputs": [
    {
     "name": "stdout",
     "output_type": "stream",
     "text": [
      "(15015, 20, 1)\n"
     ]
    },
    {
     "name": "stderr",
     "output_type": "stream",
     "text": [
      "/opt/conda/lib/python3.5/site-packages/ipykernel/__main__.py:8: UserWarning: The `input_dim` and `input_length` arguments in recurrent layers are deprecated. Use `input_shape` instead.\n",
      "/opt/conda/lib/python3.5/site-packages/ipykernel/__main__.py:8: UserWarning: Update your `LSTM` call to the Keras 2 API: `LSTM(return_sequences=True, input_shape=(None, 1), units=1)`\n",
      "/opt/conda/lib/python3.5/site-packages/ipykernel/__main__.py:9: UserWarning: The `input_dim` and `input_length` arguments in recurrent layers are deprecated. Use `input_shape` instead.\n",
      "/opt/conda/lib/python3.5/site-packages/ipykernel/__main__.py:9: UserWarning: Update your `LSTM` call to the Keras 2 API: `LSTM(return_sequences=False, input_shape=(None, 1), units=1)`\n"
     ]
    }
   ],
   "source": [
    "X_train = np.reshape(X_train, (X_train.shape[0], X_train.shape[1], EMB_SIZE))\n",
    "X_test = np.reshape(X_test, (X_test.shape[0], X_test.shape[1], EMB_SIZE))\n",
    "print(X_train.shape)\n",
    "HIDDEN_RNN = 1\n",
    "#model.add(LSTM(64, input_dim=64, input_length=10, return_sequences=True))\n",
    "model = Sequential()\n",
    "\n",
    "model.add(LSTM(input_shape = (EMB_SIZE,), input_dim=EMB_SIZE, output_dim=HIDDEN_RNN, return_sequences=True))\n",
    "model.add(LSTM(input_shape = (EMB_SIZE,), input_dim=EMB_SIZE, output_dim=HIDDEN_RNN, return_sequences=False))\n",
    "\n",
    "model.add(Dense(2))\n",
    "model.add(Activation('softmax'))\n",
    "model.compile(optimizer='adam', \n",
    "              loss='mse',\n",
    "              metrics=['accuracy'])"
   ]
  },
  {
   "cell_type": "code",
   "execution_count": 115,
   "metadata": {
    "collapsed": false
   },
   "outputs": [
    {
     "name": "stderr",
     "output_type": "stream",
     "text": [
      "/opt/conda/lib/python3.5/site-packages/keras/models.py:826: UserWarning: The `nb_epoch` argument in `fit` has been renamed `epochs`.\n",
      "  warnings.warn('The `nb_epoch` argument in `fit` '\n"
     ]
    },
    {
     "name": "stdout",
     "output_type": "stream",
     "text": [
      "Train on 13513 samples, validate on 1502 samples\n",
      "Epoch 1/5\n",
      "13513/13513 [==============================] - 2s - loss: 0.2150 - acc: 0.8975 - val_loss: 0.1716 - val_acc: 1.0000\n",
      "Epoch 2/5\n",
      "13513/13513 [==============================] - 2s - loss: 0.1250 - acc: 1.0000 - val_loss: 0.0749 - val_acc: 1.0000\n",
      "Epoch 3/5\n",
      "13513/13513 [==============================] - 2s - loss: 0.0351 - acc: 1.0000 - val_loss: 0.0113 - val_acc: 1.0000\n",
      "Epoch 4/5\n",
      "13513/13513 [==============================] - 2s - loss: 0.0070 - acc: 1.0000 - val_loss: 0.0047 - val_acc: 1.0000\n",
      "Epoch 5/5\n",
      "13513/13513 [==============================] - 2s - loss: 0.0037 - acc: 1.0000 - val_loss: 0.0030 - val_acc: 1.0000\n",
      "1536/1669 [==========================>...] - ETA: 0s[0.0029855150342436251, 1.0]\n"
     ]
    }
   ],
   "source": [
    "model.fit(X_train, \n",
    "          Y_train, \n",
    "          nb_epoch=5, \n",
    "          batch_size = 128, \n",
    "          verbose=1, \n",
    "          validation_split=0.1)\n",
    "\n",
    "\n",
    "score = model.evaluate(X_test, Y_test, batch_size=128)\n",
    "print (score)"
   ]
  },
  {
   "cell_type": "code",
   "execution_count": 294,
   "metadata": {
    "collapsed": false
   },
   "outputs": [
    {
     "name": "stderr",
     "output_type": "stream",
     "text": [
      "C:\\Users\\Alex\\Anaconda2\\lib\\site-packages\\ipykernel\\__main__.py:75: DeprecationWarning: using a non-integer number instead of an integer will result in an error in the future\n",
      "C:\\Users\\Alex\\Anaconda2\\lib\\site-packages\\ipykernel\\__main__.py:76: DeprecationWarning: using a non-integer number instead of an integer will result in an error in the future\n",
      "C:\\Users\\Alex\\Anaconda2\\lib\\site-packages\\ipykernel\\__main__.py:80: DeprecationWarning: using a non-integer number instead of an integer will result in an error in the future\n",
      "C:\\Users\\Alex\\Anaconda2\\lib\\site-packages\\ipykernel\\__main__.py:81: DeprecationWarning: using a non-integer number instead of an integer will result in an error in the future\n"
     ]
    },
    {
     "name": "stdout",
     "output_type": "stream",
     "text": [
      "Training...\n",
      "Prediction...\n",
      "Classification report for classifier SVC(C=1.0, cache_size=200, class_weight=None, coef0=0.0,\n",
      "  decision_function_shape=None, degree=3, gamma='auto', kernel='rbf',\n",
      "  max_iter=-1, probability=False, random_state=None, shrinking=True,\n",
      "  tol=0.001, verbose=False):\n",
      "             precision    recall  f1-score   support\n",
      "\n",
      "          0       0.54      0.65      0.59       913\n",
      "          1       0.43      0.32      0.37       756\n",
      "\n",
      "avg / total       0.49      0.50      0.49      1669\n",
      "\n",
      "\n"
     ]
    }
   ],
   "source": [
    "timeseries, dates = load_snp_returns()\n",
    "X, Y = split_into_chunks(timeseries, TRAIN_SIZE, TARGET_TIME, LAG_SIZE, binary=True)\n",
    "X, Y = np.array(X), np.array(Y)\n",
    "X_train, X_test, Y_train, Y_test = create_Xt_Yt(X, Y, percentage=0.9)\n",
    "\n",
    "Y_train, Y_test = np.array([y.argmax() for y in Y_train]), np.array([y.argmax() for y in Y_test])\n",
    "\n",
    "\n",
    "from sklearn.ensemble import RandomForestClassifier \n",
    "from sklearn import metrics, svm\n",
    "from sklearn import linear_model\n",
    "\n",
    "print 'Training...'\n",
    "\n",
    "#classifier = RandomForestClassifier(n_estimators = 100,\n",
    "#                               n_jobs=4,\n",
    "#                               verbose=1)\n",
    "\n",
    "#classifier = linear_model.LogisticRegression(C=1e-5)\n",
    "\n",
    "classifier = svm.SVC()\n",
    "classifier.fit(X_train, Y_train)\n",
    "\n",
    "print 'Prediction...'\n",
    "predicted = classifier.predict(X_test)\n",
    "print(\"Classification report for classifier %s:\\n%s\\n\"\n",
    "      % (classifier, metrics.classification_report(Y_test, predicted)))"
   ]
  },
  {
   "cell_type": "code",
   "execution_count": null,
   "metadata": {
    "collapsed": true
   },
   "outputs": [],
   "source": []
  }
 ],
 "metadata": {
  "anaconda-cloud": {},
  "kernelspec": {
   "display_name": "Python [conda root]",
   "language": "python",
   "name": "conda-root-py"
  },
  "language_info": {
   "codemirror_mode": {
    "name": "ipython",
    "version": 3
   },
   "file_extension": ".py",
   "mimetype": "text/x-python",
   "name": "python",
   "nbconvert_exporter": "python",
   "pygments_lexer": "ipython3",
   "version": "3.5.2"
  }
 },
 "nbformat": 4,
 "nbformat_minor": 0
}
