{
 "cells": [
  {
   "cell_type": "markdown",
   "metadata": {},
   "source": [
    "# 계산속도 향상을 위한 Python 확장\n",
    "---\n",
    "## Python과 컴파일 언어들과의 결합\n",
    "\n",
    "### C\n",
    "* **ctypes**\n",
    "* CFFI (C Foreign Function Interface)\n",
    "* Cython\n",
    "* Python/C API\n",
    "\n",
    "### C++\n",
    "* boost.python\n",
    "* pybind11\n",
    "\n",
    "### FORTRAN\n",
    "* f2py\n",
    "* ctypes\n",
    "\n",
    "### CUDA (for NVIDIA GPU)\n",
    "* **PyCUDA**\n",
    "\n",
    "### OpenCL (for AMD GPU, etc.)\n",
    "* PyOpenCL"
   ]
  },
  {
   "cell_type": "markdown",
   "metadata": {},
   "source": [
    "---\n",
    "## 첫 번째 예제 (SAXPY)\n",
    "\n",
    "Single precision $aX+Y$"
   ]
  },
  {
   "cell_type": "markdown",
   "metadata": {},
   "source": [
    "### Numpy 버전"
   ]
  },
  {
   "cell_type": "markdown",
   "metadata": {},
   "source": [
    "**saxpy_numpy.py**"
   ]
  },
  {
   "cell_type": "raw",
   "metadata": {
    "collapsed": false
   },
   "source": [
    "import numpy as np\n",
    "\n",
    "def saxpy(a, x, y):\n",
    "    y[:] = a*x + y\n",
    "\n",
    "\n",
    "def main():\n",
    "    n = 2**20\n",
    "    a = np.random.rand()\n",
    "    x = np.random.rand(n)\n",
    "    y = np.random.rand(n)\n",
    "    \n",
    "    saxpy(a, x, y)\n",
    "    \n",
    "    \n",
    "if __name__ == '__main__':\n",
    "    main()"
   ]
  },
  {
   "cell_type": "markdown",
   "metadata": {},
   "source": [
    "### Python + C 버전\n",
    "\n",
    "* ctypes와 numpy.ctypeslib 모듈 이용\n",
    "\n",
    "\n",
    "* Pure C 코드를 그대로 사용 가능\n",
    "\n",
    "\n",
    "* 컴파일된 shared library (.so) 파일을 Python에서 직접 호출함"
   ]
  },
  {
   "cell_type": "markdown",
   "metadata": {},
   "source": [
    "**saxpy.c**"
   ]
  },
  {
   "cell_type": "raw",
   "metadata": {},
   "source": [
    "void saxpy(int n, float a, float *x, float *y) {\n",
    "\tint i;\n",
    "\n",
    "\tfor (i=0; i<n; i++) {\n",
    "\t\ty[i] = a*x[i] + y[i];\n",
    "\t}\n",
    "}"
   ]
  },
  {
   "cell_type": "markdown",
   "metadata": {},
   "source": [
    "**컴파일**"
   ]
  },
  {
   "cell_type": "raw",
   "metadata": {},
   "source": [
    "gcc -O3 -shared -fPIC -o saxpy.so saxpy.c"
   ]
  },
  {
   "cell_type": "markdown",
   "metadata": {},
   "source": [
    "**main.py**"
   ]
  },
  {
   "cell_type": "raw",
   "metadata": {
    "collapsed": false
   },
   "source": [
    "from ctypes import c_int, c_float\n",
    "from datetime import datetime\n",
    "\n",
    "import numpy as np\n",
    "import numpy.ctypeslib as npct\n",
    "from numpy.testing import assert_array_equal as a_equal\n",
    "\n",
    "\n",
    "\n",
    "def saxpy_numpy(a, x, y):\n",
    "    y[:] = a*x + y\n",
    "\n",
    "\n",
    "class SAXPY_C:\n",
    "    def __init__(self):\n",
    "        # load the library using numpy\n",
    "        libm = npct.load_library('saxpy', './')\n",
    "\n",
    "        # set the arguments and retun types\n",
    "        arr_f4 = npct.ndpointer(ndim=1, dtype='f4')\n",
    "        libm.saxpy.argtypes = [c_int, c_float, arr_f4, arr_f4]\n",
    "        libm.saxpy.rettype = None\n",
    "\n",
    "        # set public\n",
    "        self.libm = libm\n",
    "\n",
    "    def saxpy_c(self, n, a, x, y):\n",
    "        self.libm.saxpy(n, a, x, y)\n",
    "\n",
    "\n",
    "def main():\n",
    "    n = 2**25\n",
    "    a = np.float32(np.random.rand())\n",
    "    x = np.random.rand(n).astype('f4')\n",
    "    y = np.random.rand(n).astype('f4')\n",
    "    y2 = y.copy()\n",
    "\n",
    "    t1 = datetime.now()\n",
    "    saxpy_numpy(a, x, y)\n",
    "    dt_numpy = datetime.now() - t1\n",
    "\n",
    "    obj = SAXPY_C()\n",
    "    t2 = datetime.now()\n",
    "    obj.saxpy_c(n, a, x, y2)\n",
    "    dt_c = datetime.now() - t2\n",
    "\n",
    "    print('n={}'.format(n))\n",
    "    print('numpy: {}'.format(dt_numpy))\n",
    "    print('c    : {}'.format(dt_c))\n",
    "\n",
    "    a_equal(y, y2)\n",
    "    print('Check result: OK!')\n",
    "\n",
    "\n",
    "if __name__ == '__main__':\n",
    "    main()"
   ]
  },
  {
   "cell_type": "markdown",
   "metadata": {},
   "source": [
    "14번 라인의 SAXPY_C 클래스는 C 함수를 Python 함수로 맵핑해주는 역할을 한다.\n",
    "\n",
    "17번 라인에서 numpy.ctypeslib.npct.load_library() 함수를 이용하여 saxpy.so 라이브러리 파일을 읽어들인다.\n",
    "\n",
    "20,21,22 라인들은 C 함수의 인자들과 반환값의 자료형을 맞춰주는데 **이 부분에서 에러가 발생하지 않도록 주의해야 한다**.\n",
    "\n",
    "datetime 함수는 numpy 버전과 C 버전의 계산시간을 측정하기 위해 사용하였다.\n",
    "\n",
    "51번 라인의 a_equal() 함수는 numpy.testing.assert_array_equal() 함수를 짧은 별칭으로 사용하는 것인데, 두 Numpy 배열의 값을 비교하여 하나라도 값이 다르면 에러를 발생시킨다. 에러가 발생하지 않았다면 두 배열의 값이 완전히 동일한 것이다."
   ]
  },
  {
   "cell_type": "markdown",
   "metadata": {},
   "source": [
    "**계산 시간 비교**\n",
    "\n",
    "현재 n의 크기가 크지 않`아서 계산 시간이 짧지만, 그럼에도 불구하고 numpy 버전과 C 함수 버전의 계산 시간이 꽤 차이남을 확인할 수 있다."
   ]
  },
  {
   "cell_type": "raw",
   "metadata": {},
   "source": [
    "$ python main.py\n",
    "n=1073741824\n",
    "numpy: 0:00:00.105556\n",
    "c    : 0:00:00.023172\n",
    "Check result: OK!"
   ]
  },
  {
   "cell_type": "markdown",
   "metadata": {},
   "source": [
    "### Python + CUDA 버전\n",
    "\n",
    "* PyCUDA 모듈 이용\n",
    "\n",
    "\n",
    "* Pure CUDA-C 코드를 그대로 사용 가능\n",
    "\n",
    "\n",
    "* NVIDIA GPU에서 실행"
   ]
  },
  {
   "cell_type": "markdown",
   "metadata": {},
   "source": [
    "**saxpy.cu**"
   ]
  },
  {
   "cell_type": "raw",
   "metadata": {},
   "source": [
    "__global__ void saxpy(int n, float a, float *x, float *y) {\n",
    "    int idx = blockIdx.x*blockDim.x + threadIdx.x;\n",
    "    if (idx >= n) return;\n",
    "\n",
    "    y[idx] = a*x[idx] + y[idx];\n",
    "}"
   ]
  },
  {
   "cell_type": "markdown",
   "metadata": {},
   "source": [
    "**main.py**"
   ]
  },
  {
   "cell_type": "raw",
   "metadata": {
    "collapsed": false
   },
   "source": [
    "from datetime import datetime\n",
    "import atexit\n",
    "\n",
    "import numpy as np\n",
    "import pycuda.driver as cuda\n",
    "from pycuda.compiler import SourceModule\n",
    "from numpy.testing import assert_array_equal as a_equal\n",
    "from numpy.testing import assert_array_almost_equal as aa_equal\n",
    "\n",
    "\n",
    "\n",
    "#------------------------------------------------------------------------------\n",
    "# CUDA initialize\n",
    "#------------------------------------------------------------------------------\n",
    "cuda.init()\n",
    "device = cuda.Device(0)\n",
    "context = device.make_context()\n",
    "atexit.register(context.pop)\n",
    "\n",
    "# CUDA info\n",
    "print(\"CUDA Compute Capability: {}.{}\".format(*device.compute_capability()))\n",
    "print(\"Device: {}\".format(device.name()))\n",
    "#------------------------------------------------------------------------------\n",
    "\n",
    "\n",
    "\n",
    "def saxpy_numpy(a, x, y): \n",
    "    y[:] = a*x + y\n",
    "\n",
    "\n",
    "\n",
    "class SAXPY_CUDA(object):\n",
    "    def __init__(self):\n",
    "        # read a CUDA kernel file\n",
    "        with open('saxpy.cu', 'r') as f:\n",
    "            mod = SourceModule(f.read())\n",
    "            self.saxpy = mod.get_function('saxpy')\n",
    "\n",
    "\n",
    "    def saxpy_cuda(self, n, a, x_gpu, y_gpu):\n",
    "        self.saxpy(np.int32(n),\n",
    "                   np.float32(a),\n",
    "                   x_gpu,\n",
    "                   y_gpu,\n",
    "                   block=(512,1,1), grid=(n//512+1,1))\n",
    "\n",
    "\n",
    "\n",
    "def main(): \n",
    "    n = 2**25\n",
    "\n",
    "    a = np.float32(np.random.rand())\n",
    "    x = np.random.rand(n).astype('f4')\n",
    "    y = np.random.rand(n).astype('f4')\n",
    "    x_gpu = cuda.to_device(x)\n",
    "    y_gpu = cuda.to_device(y)\n",
    "    y2 = np.zeros(n, 'f4')\n",
    "\n",
    "    t1 = datetime.now()\n",
    "    saxpy_numpy(a, x, y)\n",
    "    dt_numpy = datetime.now() - t1\n",
    "\n",
    "    obj = SAXPY_CUDA()\n",
    "    t2 = datetime.now()\n",
    "    obj.saxpy_cuda(n, a, x_gpu, y_gpu) \n",
    "    cuda.memcpy_dtoh(y2, y_gpu)\n",
    "    dt_cuda = datetime.now() - t2\n",
    "\n",
    "    print('n={}'.format(n))\n",
    "    print('numpy: {}'.format(dt_numpy))\n",
    "    print('cuda : {}'.format(dt_cuda))\n",
    "\n",
    "    aa_equal(y, y2, 7)\n",
    "    print('Check result: OK!')\n",
    "\n",
    "\n",
    "\n",
    "if __name__ == '__main__':\n",
    "    main()\n"
   ]
  },
  {
   "cell_type": "markdown",
   "metadata": {},
   "source": [
    "15-18 라인은 CUDA 실행 환경을 구성한다. 만약 시스템에 2개 이상의 NVIDIA GPU가 있다면, 16번 라인에서 cuda.Device(0) 에 0 대신 다른 번호를 넣어주어 활성화할 GPU를 선택할 수 있다.\n",
    "\n",
    "32번 라인의 SAXPY_CUDA 클래스는 CUDA 함수를 Python 함수로 맵핑해주는 역할을 한다. 앞의 C 버전에서는 미리 컴파일된 라이브러리를 읽어왔는데, 여기서는 CUDA 커널 소스 코드(saxpy.cu)를 문자열로 읽어와서, 36번 라인의 SourceModule() 함수의 인자로 주면 런타임 때 CUDA 컴파일을 한다.\n",
    "\n",
    "40-45번 라인은 CUDA 커널 saxpy를 호출하는데, 인자 n과 a의 자료형을 32bit int, float 형으로 변환해주고 있다. block 인자는 CUDA의 thread block 크기를 지정하고, grid 인자는 CUDA의 grid 크기를 지정한다.\n",
    "\n",
    "55-56 라인에서 GPU 메모리 공간에 할당될 배열을 선언한다.\n",
    "\n",
    "73번 라인의 aa_equal() 함수는 numpy.testing.assert_array_almost_equal() 함수를 짧은 별칭으로 사용하는 것인데, 두 Numpy 배열의 값을 비교하여 소수점 이하 7(세번째 인자) 자리의 값이 다르면 에러를 발생시킨다. 에러가 발생하지 않았다면 두 배열의 값은 소수점 이하 7자리까지 동일한 것이다."
   ]
  },
  {
   "cell_type": "markdown",
   "metadata": {},
   "source": [
    "---\n",
    "## 두 번째 예제 - 2차원 파동 시뮬레이션\n",
    "\n",
    "\n",
    "호수에 돌을 던지면 원형으로 퍼지는 물결파를 볼 수 있다. 2차원 파동 방정식을 풀면 이와 같은 원형 파동을 시뮬레이션 할 수 있다. 2차원 파동 방정식은 다음과 같이 시간과 공간에 대한 2차 미분으로 이루어져 있다.\n",
    "\n",
    "\n",
    "$$\\frac{\\partial^2 u}{\\partial t^2} = a^2\\biggl{(} \\frac{\\partial^2 u}{\\partial x^2} + \\frac{\\partial^2 u}{\\partial y^2} \\biggr{)}$$\n",
    "\n",
    "\n",
    "수치 미분을 위해 중심차분방법(Central Finite-Difference Method)를 이용하여 미분항을 이산화하면 다음과 같다.\n",
    "\n",
    "\n",
    "$$\\frac{\\partial^2 u}{\\partial t^2} \\simeq \\frac{u\\bigl|^{n-1}_{i,j} - 2u\\bigl|^{n}_{i,j} + u\\bigl|^{n+1}_{i,j}}{\\Delta^2_t}$$\n",
    "\n",
    "\n",
    "$$\\frac{\\partial^2 u}{\\partial x^2} \\simeq \\frac{u\\bigl|^{n}_{i-1,j} - 2u\\bigl|^{n}_{i,j} + u\\bigl|^{n}_{i+1,j}}{\\Delta^2_x}$$\n",
    "\n",
    "\n",
    "윗첨자 $n$은 시간을 이산화한 인덱스로 $n$은 현재 타임스텝, $n-1$은 이전 타임스텝, $n+1$은 다음 타임스텝을 의미한다. 아래첨자 $i,j$는 2차원 공간을 이산화한 인덱스로 $i-1, i+1$들은 좌우 격자점들을, $j-1, j+1$들은 아래위 격자점들을 의미한다. 이 식들을 방정식에 대입하여 정리하면, 다음과 같다.\n",
    "\n",
    "\n",
    "$$u\\bigl|^{n+1}_{i,j} = \\biggl{(} a\\frac{\\Delta_t}{\\Delta_x} \\biggr{)}^2 \\biggl{(} u\\bigl|^{n}_{i-1,j} + u\\bigl|^{n}_{i+1,j} + u\\bigl|^{n}_{i,j-1} + u\\bigl|^{n}_{i,j+1} -4u\\bigl|^{n}_{i,j} \\biggr{)} + 2u\\bigl|^{n}_{i,j} - u\\bigl|^{n-1}_{i,j} $$\n",
    "\n",
    "\n",
    "편의상 $\\biggl{(} a\\frac{\\Delta_t}{\\Delta_x} \\biggr{)}^2 = 0.25$ 라고 하자."
   ]
  },
  {
   "cell_type": "markdown",
   "metadata": {},
   "source": [
    "### Numpy 버전"
   ]
  },
  {
   "cell_type": "markdown",
   "metadata": {},
   "source": [
    "**wave2d_numpy.py**"
   ]
  },
  {
   "cell_type": "code",
   "execution_count": 1,
   "metadata": {
    "collapsed": false
   },
   "outputs": [
    {
     "data": {
      "image/png": "[encoded data removed]",
      "text/plain": [
       "<matplotlib.figure.Figure at 0x49d60b8>"
      ]
     },
     "metadata": {},
     "output_type": "display_data"
    }
   ],
   "source": [
    "import numpy as np\n",
    "import matplotlib.pyplot as plt\n",
    "\n",
    "\n",
    "def update(f, g):\n",
    "    sl = slice(1, -1)\n",
    "    f[sl,sl] = 0.25*(g[:-2,sl] + g[2:,sl] + g[sl,:-2] + g[sl,2:] - 4*g[sl,sl]) \\\n",
    "               + 2*g[sl,sl] - f[sl,sl]\n",
    "    \n",
    "    \n",
    "def main():\n",
    "    # setup\n",
    "    nx, ny = 100, 80\n",
    "    tmax = 50\n",
    "\n",
    "    # allocation\n",
    "    f = np.zeros((nx, ny), 'f4')\n",
    "    g = np.zeros((nx, ny), 'f4')\n",
    "\n",
    "    # plot\n",
    "    imag = plt.imshow(f, vmin=-0.1, vmax=0.1)\n",
    "    plt.colorbar()\n",
    "\n",
    "    # time loop\n",
    "    for tstep in range(1, tmax+1):\n",
    "        g[nx//2,ny//2] = np.sin(0.4*tstep)\n",
    "        update(f, g)\n",
    "        update(g, f)\n",
    "            \n",
    "        '''\n",
    "        if tstep%10 == 0:\n",
    "            print('tstep={}'.format(tstep))\n",
    "            imag.set_array(f)\n",
    "            imag.savefig('png/wave2d_{:03d}.png'.format(tstep))\n",
    "        '''\n",
    "            \n",
    "    imag.set_array(f)        \n",
    "    plt.show()\n",
    "            \n",
    "\n",
    "if __name__ == '__main__':\n",
    "    main()"
   ]
  },
  {
   "cell_type": "markdown",
   "metadata": {},
   "source": [
    "### Python + C 버전\n",
    "\n",
    "* ctypes와 numpy.ctypeslib 모듈 이용\n",
    "\n",
    "\n",
    "* Pure C 코드를 그대로 사용 가능\n",
    "\n",
    "\n",
    "* 컴파일된 shared library (.so) 파일을 Python에서 직접 호출함"
   ]
  },
  {
   "cell_type": "markdown",
   "metadata": {},
   "source": [
    "**wave2d.c**"
   ]
  },
  {
   "cell_type": "raw",
   "metadata": {},
   "source": [
    "void update(int nx, int ny, float *f, float *g) {\n",
    "    int i, j, idx;\n",
    "\n",
    "\tfor (i=1; i<nx-1; i++) {\n",
    "\t    for (j=1; j<ny-1; j++) {\n",
    "\t\t\tidx = i*ny + j;\n",
    "        \tf[idx] = 0.25*(g[idx-ny] + g[idx+ny] + g[idx-1] + g[idx+1] - 4*g[idx])\n",
    "                     + 2*g[idx] - f[idx];\n",
    "    \t}\n",
    "    }\n",
    "}"
   ]
  },
  {
   "cell_type": "markdown",
   "metadata": {},
   "source": [
    "f와 g 함수는 본래 2차원 함수이지만, Python에서 이 함수를 호출할 때의 편의를 위해 1차원 함수로 바꾸었다. 7번 라인에서 2차원 배열을 1차원으로 길게 늘였을 때의 인덱스 변환은 다음과 같다.\n",
    "\n",
    "f[i][j] -> f[i\\*ny + j]\n",
    "\n",
    "f[i+1][j] -> f[(i+1)\\*ny + j] -> f[(i\\*ny + j) + ny]\n",
    "\n",
    "f[i][j+1] -> f[i\\*ny + (j+1)] -> f[(i\\*ny + j) + 1]"
   ]
  },
  {
   "cell_type": "markdown",
   "metadata": {},
   "source": [
    "**컴파일**"
   ]
  },
  {
   "cell_type": "raw",
   "metadata": {},
   "source": [
    "gcc -O3 -shared -fPIC -o update.so update.c"
   ]
  },
  {
   "cell_type": "markdown",
   "metadata": {},
   "source": [
    "**main.py**"
   ]
  },
  {
   "cell_type": "raw",
   "metadata": {
    "collapsed": false
   },
   "source": [
    "from ctypes import c_int, c_float\n",
    "from datetime import datetime\n",
    "\n",
    "import numpy as np\n",
    "import numpy.ctypeslib as npct\n",
    "import matplotlib.pyplot as plt\n",
    "from numpy.testing import assert_array_equal as a_equal\n",
    "from numpy.testing import assert_array_almost_equal as aa_equal\n",
    "\n",
    "\n",
    "\n",
    "def update_numpy(f, g): \n",
    "    sl = slice(1, -1)\n",
    "    f[sl,sl] = 0.25*(g[:-2,sl] + g[2:,sl] + g[sl,:-2] + g[sl,2:] - 4*g[sl,sl]) + 2*g[sl,sl] - f[sl,sl]\n",
    "\n",
    "\n",
    "\n",
    "class WAVE2D_C(object):\n",
    "    def __init__(self):\n",
    "        # load the library using numpy\n",
    "        libm = npct.load_library('update', './')\n",
    "\n",
    "        # set the arguments and retun types\n",
    "        arr_f4 = npct.ndpointer(ndim=1, dtype='f4')\n",
    "        libm.update.argtypes = [c_int, c_int, arr_f4, arr_f4]\n",
    "        libm.update.rettype = None\n",
    "\n",
    "        # set public\n",
    "        self.libm = libm\n",
    "\n",
    "    def update_c(self, nx, ny, x, y):\n",
    "        self.libm.update(nx, ny, x, y)\n",
    "\n",
    "\n",
    "\n",
    "def main(): \n",
    "    nx, ny = 1000, 800\n",
    "    tmax = 500\n",
    "\n",
    "    # allocation\n",
    "    f = np.zeros((nx, ny), 'f4')\n",
    "    g = np.zeros((nx, ny), 'f4')\n",
    "    f2 = np.zeros_like(f)\n",
    "    g2 = np.zeros_like(f)\n",
    "\n",
    "    # time loop\n",
    "    # numpy version\n",
    "    t1 = datetime.now()\n",
    "    for tstep in range(1, tmax+1):\n",
    "        g[nx//2, ny//2] = np.sin(0.1*tstep)\n",
    "        update_numpy(f, g)\n",
    "        update_numpy(g, f)\n",
    "    dt_numpy = datetime.now() - t1\n",
    "\n",
    "    # C version\n",
    "    obj = WAVE2D_C()\n",
    "    t2 = datetime.now()\n",
    "    for tstep in range(1, tmax+1):\n",
    "        g2[nx//2, ny//2] = np.sin(0.1*tstep)\n",
    "        obj.update_c(nx, ny, f2.ravel(), g2.ravel())\n",
    "        obj.update_c(nx, ny, g2.ravel(), f2.ravel())\n",
    "    dt_cuda = datetime.now() - t2\n",
    "\n",
    "    print('\\nnx={}, ny={}, tmax={}'.format(nx, ny, tmax))\n",
    "    print('numpy: {}'.format(dt_numpy))\n",
    "    print('cuda : {}'.format(dt_cuda))\n",
    "\n",
    "    # check results\n",
    "    aa_equal(f, f2, 6)\n",
    "    print('Check result: OK!')\n",
    "\n",
    "    # plot\n",
    "    plt.imshow(f.T, cmap='hot', origin='lower', vmin=-0.1, vmax=0.1)\n",
    "    plt.colorbar()\n",
    "    plt.show()\n",
    "\n",
    "\n",
    "\n",
    "if __name__ == '__main__':\n",
    "    main()"
   ]
  },
  {
   "cell_type": "markdown",
   "metadata": {},
   "source": [
    "C 함수 라이브러리에 선언된 update() 함수를 WAVE2D_C 클래스의 update_c() 함수로 맵핑하는 방법은 첫 번째 예제와 거의 동일하다.\n",
    "\n",
    "60-61번 라인에서 f2, g2를 인자로 넘겨줄 때, 2차원 배열을 1차원 배열로 변환해주는 ravel() 함수를 사용하였다. Numpy 다차원 배열을 1차원 배열로 바꿔주는 함수는 flatten()과 ravel() 두 가지가 있는데, flatten()은 copy를 하며 ravel()은 view를 한다. 이런 경우에는 ravel() 함수가 성능에 더 유리하다."
   ]
  },
  {
   "cell_type": "markdown",
   "metadata": {},
   "source": [
    "### Python + CUDA 버전\n",
    "\n",
    "* PyCUDA 모듈 이용\n",
    "\n",
    "\n",
    "* Pure CUDA-C 코드를 그대로 사용 가능\n",
    "\n",
    "\n",
    "* NVIDIA GPU에서 실행"
   ]
  },
  {
   "cell_type": "markdown",
   "metadata": {},
   "source": [
    "**update.cu**"
   ]
  },
  {
   "cell_type": "raw",
   "metadata": {},
   "source": [
    "__global__ void update(int nx, int ny, float *f, float *g) {\n",
    "    int idx = blockIdx.x*blockDim.x + threadIdx.x;\n",
    "    int i, j;\n",
    "\n",
    "    i = idx/ny;\n",
    "    j = idx%ny;\n",
    "    if (i > 0 && i < nx-1 && j > 0 && j < ny-1) {\n",
    "        f[idx] = 0.25*(g[idx-ny] + g[idx+ny] + g[idx-1] + g[idx+1] - 4*g[idx])\n",
    "                 + 2*g[idx] - f[idx];\n",
    "    }\n",
    "}\n",
    "\n",
    "\n",
    "\n",
    "__global__ void update_src(int nx, int ny, int tstep, float *g) {\n",
    "    g[(nx/2)*ny + (ny/2)] = sin(0.1*tstep);\n",
    "}"
   ]
  },
  {
   "cell_type": "markdown",
   "metadata": {},
   "source": [
    "CUDA 커널에서는 for 루프를 명시적으로 사용하지 않으므로, i, j 인덱스의 유효 범위를 조건문으로 넣어주어야 한다(7번 라인). 그렇지 않으면 런타임 에러가 나지는 않지만, 결과가 모두 nan 으로 나오게 된다.\n",
    "\n",
    "15-17번 라인은 소스 항을 추가하는 커널이다. 앞의 코드들에서는 main() 함수에서 직접 처리했지만, CUDA에서는 독립적인 커널을 만들어줘야 한다."
   ]
  },
  {
   "cell_type": "markdown",
   "metadata": {},
   "source": [
    "**main.py**"
   ]
  },
  {
   "cell_type": "raw",
   "metadata": {
    "collapsed": false
   },
   "source": [
    "from datetime import datetime\n",
    "import atexit\n",
    "\n",
    "import numpy as np\n",
    "import matplotlib.pyplot as plt\n",
    "import pycuda.driver as cuda\n",
    "from pycuda.compiler import SourceModule\n",
    "from numpy.testing import assert_array_equal as a_equal\n",
    "from numpy.testing import assert_array_almost_equal as aa_equal\n",
    "\n",
    "\n",
    "\n",
    "#------------------------------------------------------------------------------\n",
    "# CUDA initialize\n",
    "#------------------------------------------------------------------------------\n",
    "cuda.init()\n",
    "device = cuda.Device(0)\n",
    "context = device.make_context()\n",
    "atexit.register(context.pop)\n",
    "\n",
    "# CUDA info\n",
    "print(\"CUDA Compute Capability: {}.{}\".format(*device.compute_capability()))\n",
    "print(\"Device: {}\".format(device.name()))\n",
    "#------------------------------------------------------------------------------\n",
    "\n",
    "\n",
    "\n",
    "def update_numpy(f, g): \n",
    "    sl = slice(1, -1)\n",
    "    f[sl,sl] = 0.25*(g[:-2,sl] + g[2:,sl] + g[sl,:-2] + g[sl,2:] - 4*g[sl,sl]) + 2*g[sl,sl] - f[sl,sl]\n",
    "\n",
    "\n",
    "\n",
    "class WAVE2D_CUDA(object):\n",
    "    def __init__(self):\n",
    "        # read a CUDA kernel file\n",
    "        with open('update.cu', 'r') as f:\n",
    "            mod = SourceModule(f.read())\n",
    "            self.update = mod.get_function('update')\n",
    "            self.update_src = mod.get_function('update_src')\n",
    "\n",
    "\n",
    "    def update_cuda(self, nx, ny, f_gpu, g_gpu):\n",
    "        self.update(np.int32(nx),\n",
    "                    np.int32(ny),\n",
    "                    f_gpu,\n",
    "                    g_gpu,\n",
    "                    block=(512,1,1), grid=((nx*ny)//512+1,1))\n",
    "\n",
    "\n",
    "    def update_src_cuda(self, nx, ny, tstep, g_gpu):\n",
    "        self.update_src(np.int32(nx),\n",
    "                        np.int32(ny),\n",
    "                        np.int32(tstep),\n",
    "                        g_gpu,\n",
    "                        block=(1,1,1), grid=(1,1))\n",
    "\n",
    "\n",
    "\n",
    "def main(): \n",
    "    nx, ny = 1000, 800\n",
    "    tmax = 500\n",
    "\n",
    "    # allocation\n",
    "    f = np.zeros((nx, ny), 'f4')\n",
    "    g = np.zeros((nx, ny), 'f4')\n",
    "    f_gpu = cuda.to_device(f)\n",
    "    g_gpu = cuda.to_device(g)\n",
    "    f2 = np.zeros((nx,ny), 'f4')\n",
    "\n",
    "    # time loop\n",
    "    # numpy version\n",
    "    t1 = datetime.now()\n",
    "    for tstep in range(1, tmax+1):\n",
    "        g[nx//2, ny//2] = np.sin(0.1*tstep)\n",
    "        update_numpy(f, g)\n",
    "        update_numpy(g, f)\n",
    "    dt_numpy = datetime.now() - t1\n",
    "\n",
    "    # cuda version\n",
    "    obj = WAVE2D_CUDA()\n",
    "    t2 = datetime.now()\n",
    "    for tstep in range(1, tmax+1):\n",
    "        obj.update_src_cuda(nx, ny, tstep, g_gpu)\n",
    "        obj.update_cuda(nx, ny, f_gpu, g_gpu)\n",
    "        obj.update_cuda(nx, ny, g_gpu, f_gpu)\n",
    "    cuda.memcpy_dtoh(f2, f_gpu)\n",
    "    dt_cuda = datetime.now() - t2\n",
    "\n",
    "    print('\\nnx={}, ny={}, tmax={}'.format(nx, ny, tmax))\n",
    "    print('numpy: {}'.format(dt_numpy))\n",
    "    print('cuda : {}'.format(dt_cuda))\n",
    "\n",
    "    # check results\n",
    "    aa_equal(f, f2, 6)\n",
    "    print('Check result: OK!')\n",
    "\n",
    "    # plot\n",
    "    plt.imshow(f.T, cmap='hot', origin='lower', vmin=-0.1, vmax=0.1)\n",
    "    plt.colorbar()\n",
    "    plt.show()\n",
    "\n",
    "\n",
    "\n",
    "if __name__ == '__main__':\n",
    "    main()"
   ]
  },
  {
   "cell_type": "markdown",
   "metadata": {},
   "source": [
    "CUDA 환경을 구성하고, 커널 소스 파일을 읽어와서 컴파일 하는 부분은 앞의 saxpy 예제와 거의 유사하다.\n",
    "\n",
    "43-56번 라인에서 CUDA 커널들을 호출할 때, 인자들의 자료형을 명시적으로 변환해줘야 하는 것에 주의해야 한다."
   ]
  },
  {
   "cell_type": "markdown",
   "metadata": {},
   "source": [
    "**계산 시간 비교**"
   ]
  },
  {
   "cell_type": "raw",
   "metadata": {},
   "source": [
    "$ python main.py\n",
    "CUDA Compute Capability: 6.0\n",
    "Device: Tesla P100-PCIE-16GB\n",
    "\n",
    "nx=1000, ny=800, tmax=500\n",
    "numpy: 0:00:05.872658\n",
    "cuda : 0:00:00.039346\n",
    "Check result: OK!"
   ]
  }
 ],
 "metadata": {
  "kernelspec": {
   "display_name": "Python 3",
   "language": "python",
   "name": "python3"
  },
  "language_info": {
   "codemirror_mode": {
    "name": "ipython",
    "version": 3
   },
   "file_extension": ".py",
   "mimetype": "text/x-python",
   "name": "python",
   "nbconvert_exporter": "python",
   "pygments_lexer": "ipython3",
   "version": "3.6.0"
  }
 },
 "nbformat": 4,
 "nbformat_minor": 2
}
